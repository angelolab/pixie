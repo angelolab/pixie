{
 "cells": [
  {
   "cell_type": "markdown",
   "metadata": {},
   "source": [
    "# OME-TIFF Conversion\n",
    "\n",
    "This small notebook contains utilities to convert:\n",
    "- Multichannel OME-TIFFs into single channel TIFF files, with one TIFF file per channel in the OME-TIFF.\n",
    "- Single-channel TIFFs per FOV into a multichannel OME-TIFF.\n",
    "\n",
    "\n",
    "Single channel TIFF structure:\n",
    "```sh\n",
    "fov_1/\n",
    "├── channel_1.tiff\n",
    "├── channel_2.tiff\n",
    "├── channel_3.tiff\n",
    "├── ...\n",
    "└── channel_n.tiff\n",
    "```"
   ]
  },
  {
   "cell_type": "code",
   "execution_count": null,
   "metadata": {},
   "outputs": [],
   "source": [
    "import os\n",
    "import pathlib\n",
    "from typing import List\n",
    "\n",
    "from alpineer import load_utils\n",
    "from tqdm.notebook import tqdm\n",
    "\n",
    "from ark.utils import example_dataset"
   ]
  },
  {
   "cell_type": "markdown",
   "metadata": {},
   "source": [
    "## OME-TIFF to Single Channel TIFFs"
   ]
  },
  {
   "cell_type": "markdown",
   "metadata": {},
   "source": [
    "If you would like to test this feature using the example dataset, run the cell below. To use your own data, skip the cell below. The dataset contains one OME-TIFF (a converted version of FOV 1 in the example dataset)."
   ]
  },
  {
   "cell_type": "code",
   "execution_count": null,
   "metadata": {},
   "outputs": [],
   "source": [
    "example_dataset.get_example_dataset(dataset=\"ome_tiff\", save_dir = pathlib.Path(\"../data/example_dataset/\"), overwrite_existing = True)"
   ]
  },
  {
   "cell_type": "markdown",
   "metadata": {},
   "source": [
    "**Variables:**\n",
    "* `ome_dir_path`: The directory containing all the OME-TIFFs which will be used.\n",
    "* `data_dir`: The directory where the single channel TIFFs get saved to. Recommended to be a subdirectory in `../data/`."
   ]
  },
  {
   "cell_type": "code",
   "execution_count": null,
   "metadata": {},
   "outputs": [],
   "source": [
    "ome_dir_path: str = \"../data/example_dataset/ome_tiff/\"\n",
    "data_dir_path: str = \"../data/your_data/\"\n",
    "\n",
    "data_dir = pathlib.Path(data_dir_path)\n",
    "ome_dir: str = pathlib.Path(ome_dir_path)\n",
    "\n",
    "# Make the paths if they do not exist\n",
    "data_dir.mkdir(parents=True, exist_ok=True)\n",
    "ome_dir.mkdir(parents=True, exist_ok=True)"
   ]
  },
  {
   "cell_type": "markdown",
   "metadata": {},
   "source": [
    "Convert all the OME-TIFFS to single channel TIFFs and save them in `data_dir`."
   ]
  },
  {
   "cell_type": "code",
   "execution_count": null,
   "metadata": {},
   "outputs": [],
   "source": [
    "# Gather all the OME-TIFFs\n",
    "ome_tiffs = list(ome_dir.glob(\"*.ome.[tif tiff]*\"))\n",
    "\n",
    "# Convert all the OME-TIFFs to single channel TIFFs\n",
    "for ome_tiff in tqdm(ome_tiffs):\n",
    "    load_utils.ome_to_fov(ome_tiff, data_dir=data_dir)"
   ]
  },
  {
   "cell_type": "markdown",
   "metadata": {},
   "source": [
    "## Single Channel TIFFs to OME-TIFF"
   ]
  },
  {
   "cell_type": "markdown",
   "metadata": {},
   "source": [
    "If you would like to test this feature using the example dataset, run the cell below. To use your own data, skip the cell below. The dataset contains 11 single channel TIFF Images, each with 22 channels."
   ]
  },
  {
   "cell_type": "code",
   "execution_count": null,
   "metadata": {},
   "outputs": [],
   "source": [
    "example_dataset.get_example_dataset(dataset=\"segment_image_data\", save_dir = pathlib.Path(\"../data/example_dataset/\"), overwrite_existing = True)"
   ]
  },
  {
   "cell_type": "markdown",
   "metadata": {},
   "source": [
    "**Variables**\n",
    "\n",
    "- `fovs`: A list of FOVs (a folder containing single channel TIFFs) to convert to OME-TIFFs. If `None`, converts all single channel TIFFs in the directory to OME-TIFFs. \n",
    "- `channels`: The channels per set of single channel TIFFs to convert to OME-TIFFs (defaults to `None` which uses all channels per set of single channel TIFFs). Or you may input a list of desired channels (i.e. `[\"chan1\", \"chan2\", ..., \"chan7\"]`)\n",
    "- `img_sub_folder`: The subdirectory within each of the `fovs` containing the single channel TIFFs, an optional parameter.\n",
    "- `data_dir`: The directory containing the single channel TIFFs.\n",
    "- `save_dir`: The directory to save the OME-TIFF.\n",
    "\n",
    "Note, the name of the OME-TIFF is based on the single channel TIFF name (i.e. the folder `fov1` will become `fov1.ome.tiff`)"
   ]
  },
  {
   "cell_type": "code",
   "execution_count": null,
   "metadata": {},
   "outputs": [],
   "source": [
    "data_dir: str = \"../data/example_dataset/image_data/\"\n",
    "save_dir: str = \"../data/ome_tiffs/\"\n",
    "\n",
    "# Make the `save_dir` if it doesn't exist\n",
    "pathlib.Path(save_dir).mkdir(parents=True, exist_ok=True)"
   ]
  },
  {
   "cell_type": "code",
   "execution_count": null,
   "metadata": {},
   "outputs": [],
   "source": [
    "fovs: List[str] = [\"fov1\"] # naming schema for the example dataset is fov0, fov1, fov2, ..., fov10\n",
    "channels = None\n",
    "img_sub_folder = None"
   ]
  },
  {
   "cell_type": "markdown",
   "metadata": {},
   "source": [
    "Converts a folder of single channel TIFFs into a multichannel OME-TIFF."
   ]
  },
  {
   "cell_type": "code",
   "execution_count": null,
   "metadata": {},
   "outputs": [],
   "source": [
    "load_utils.fov_to_ome(data_dir=data_dir, ome_save_dir=save_dir, img_sub_folder=img_sub_folder, fovs=fovs, channels=channels)"
   ]
  }
 ],
 "metadata": {
  "kernelspec": {
   "display_name": "Python 3 (ipykernel)",
   "language": "python",
   "name": "python3"
  },
  "language_info": {
   "codemirror_mode": {
    "name": "ipython",
    "version": 3
   },
   "file_extension": ".py",
   "mimetype": "text/x-python",
   "name": "python",
   "nbconvert_exporter": "python",
   "pygments_lexer": "ipython3",
   "version": "3.11.4"
  },
  "vscode": {
   "interpreter": {
    "hash": "9cd428f2623867f362c6ffd1805d28fe273bb79d15f4a3a73107e7f51d98be79"
   }
  }
 },
 "nbformat": 4,
 "nbformat_minor": 4
}
